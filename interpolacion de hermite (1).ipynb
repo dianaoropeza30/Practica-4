{
  "metadata": {
    "language_info": {
      "codemirror_mode": {
        "name": "python",
        "version": 3
      },
      "file_extension": ".py",
      "mimetype": "text/x-python",
      "name": "python",
      "nbconvert_exporter": "python",
      "pygments_lexer": "ipython3",
      "version": "3.8"
    },
    "kernelspec": {
      "name": "python",
      "display_name": "Python (Pyodide)",
      "language": "python"
    }
  },
  "nbformat_minor": 4,
  "nbformat": 4,
  "cells": [
    {
      "cell_type": "code",
      "source": "#interpolacion por el metodo de hermite\nimport numpy as np\nimport sympy as sym",
      "metadata": {
        "trusted": true
      },
      "execution_count": 19,
      "outputs": []
    },
    {
      "cell_type": "code",
      "source": "x=[1.3,1.6,1.9] #x\ny=[0.620086,0.4554022,0.281818] #f(x)\nz=[-0.522023,-0.569896,-0.581157] #f'(x)",
      "metadata": {
        "trusted": true
      },
      "execution_count": 20,
      "outputs": []
    },
    {
      "cell_type": "code",
      "source": "Q=np.zeros((len(x)+3,len(y)+3))\nZ=np.zeros((len(x)*2,1))\n\n#Valores a (Qj,0)\n\nfor r in range(0,len(y)):\n  Q[r][0]=y[r]",
      "metadata": {
        "trusted": true
      },
      "execution_count": 21,
      "outputs": []
    },
    {
      "cell_type": "code",
      "source": "for i in range(0,len(x)):\n  Z[2*i] = x[i]\n  Z[2*i+1]= x[i]\n  Q[2*i][0] = y[i]\n  Q[2*i+1][0] = y[i]\n  Q[2*i+1][1] = z[i]\n  if i != 0:\n    Q[2*i][1] = (Q[2*i][0]-Q[2*i-1][0])/(Z[2*i]- Z[2*i-1])\n\nfor i in range(2,len(x)+3):\n    for j in range(2,i+1):\n        Q[i][j]=(Q[i][j-1]-Q[i-1][j-1])/(Z[i]-Z[i-j])\n\n\nprint(\"Coeficientes Qj,j del polinomio de Hermite \")\nprint(Q)",
      "metadata": {
        "trusted": true
      },
      "execution_count": 22,
      "outputs": [
        {
          "name": "stdout",
          "text": "Coeficientes Qj,j del polinomio de Hermite \n[[ 0.620086    0.          0.          0.          0.          0.        ]\n [ 0.620086   -0.522023    0.          0.          0.          0.        ]\n [ 0.4554022  -0.548946   -0.08974333  0.          0.          0.        ]\n [ 0.4554022  -0.569896   -0.06983333  0.06636667  0.          0.        ]\n [ 0.281818   -0.578614   -0.02906     0.06795556  0.00264815  0.        ]\n [ 0.281818   -0.581157   -0.00847667  0.06861111  0.00109259 -0.00259259]]\n",
          "output_type": "stream"
        }
      ]
    },
    {
      "cell_type": "code",
      "source": "#fin del codigo",
      "metadata": {
        "trusted": true
      },
      "execution_count": 14,
      "outputs": []
    },
    {
      "cell_type": "code",
      "source": "",
      "metadata": {},
      "execution_count": null,
      "outputs": []
    }
  ]
}